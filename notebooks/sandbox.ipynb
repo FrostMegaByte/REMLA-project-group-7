{
 "cells": [
  {
   "cell_type": "code",
   "execution_count": 2,
   "outputs": [
    {
     "ename": "AttributeError",
     "evalue": "'list' object has no attribute 'split'",
     "output_type": "error",
     "traceback": [
      "\u001B[0;31m---------------------------------------------------------------------------\u001B[0m",
      "\u001B[0;31mAttributeError\u001B[0m                            Traceback (most recent call last)",
      "Input \u001B[0;32mIn [2]\u001B[0m, in \u001B[0;36m<cell line: 3>\u001B[0;34m()\u001B[0m\n\u001B[1;32m      1\u001B[0m t1 \u001B[38;5;241m=\u001B[39m \u001B[38;5;124m\"\u001B[39m\u001B[38;5;124mHi im hello world\u001B[39m\u001B[38;5;124m\"\u001B[39m\n\u001B[1;32m      2\u001B[0m t2 \u001B[38;5;241m=\u001B[39m [\u001B[38;5;124m'\u001B[39m\u001B[38;5;124m1\u001B[39m\u001B[38;5;124m'\u001B[39m,\u001B[38;5;124m'\u001B[39m\u001B[38;5;124m2\u001B[39m\u001B[38;5;124m'\u001B[39m,\u001B[38;5;124m'\u001B[39m\u001B[38;5;124m3\u001B[39m\u001B[38;5;124m'\u001B[39m]\n\u001B[0;32m----> 3\u001B[0m \u001B[43mt2\u001B[49m\u001B[38;5;241;43m.\u001B[39;49m\u001B[43msplit\u001B[49m\n\u001B[1;32m      4\u001B[0m \u001B[38;5;28;01mfor\u001B[39;00m e \u001B[38;5;129;01min\u001B[39;00m t1:\n\u001B[1;32m      5\u001B[0m     \u001B[38;5;28mprint\u001B[39m(e)\n",
      "\u001B[0;31mAttributeError\u001B[0m: 'list' object has no attribute 'split'"
     ]
    }
   ],
   "source": [
    "t1 = \"Hi im hello world\"\n",
    "t2 = ['1','2','3']\n",
    "t2.split\n",
    "for e in t1:\n",
    "    print(e)"
   ],
   "metadata": {
    "collapsed": false,
    "pycharm": {
     "name": "#%%\n"
    }
   }
  },
  {
   "cell_type": "code",
   "execution_count": null,
   "outputs": [],
   "source": [
    "\n",
    "from src.util.util import read_data, write_data\n",
    "\n",
    "train = read_data('../data/raw/train.tsv', '\\t')\n",
    "val = read_data('../data/raw/validation.tsv', '\\t')\n",
    "file_names = ['202203','202204','202205','202206']\n",
    "\n"
   ],
   "metadata": {
    "collapsed": false,
    "pycharm": {
     "name": "#%%\n"
    }
   }
  },
  {
   "cell_type": "code",
   "execution_count": null,
   "outputs": [],
   "source": [
    "import pandas as pd\n",
    "\n",
    "all_data = pd.concat([train, val])\n",
    "print(all_data.head(1))\n",
    "print(all_data.tail(1))\n",
    "print(len(all_data))"
   ],
   "metadata": {
    "collapsed": false,
    "pycharm": {
     "name": "#%%\n"
    }
   }
  },
  {
   "cell_type": "code",
   "execution_count": null,
   "outputs": [],
   "source": [
    "data_1 = all_data[:int(len(all_data)/4)]\n",
    "print(len(data_1))\n",
    "\n",
    "data_2 = all_data[int(len(all_data)/4):int(len(all_data)/4)*2]\n",
    "print(len(data_2))\n",
    "\n",
    "data_3 = all_data[int(len(all_data)/4)*2:int(len(all_data)/4)*3]\n",
    "print(len(data_3))\n",
    "\n",
    "data_4 = all_data[int(len(all_data)/4)*3:int(len(all_data)/4)*4]\n",
    "print(len(data_4))\n"
   ],
   "metadata": {
    "collapsed": false,
    "pycharm": {
     "name": "#%%\n"
    }
   }
  },
  {
   "cell_type": "code",
   "execution_count": null,
   "outputs": [],
   "source": [
    "write_data(data_1, file_names[0]+ '.tsv')\n",
    "write_data(data_1, file_names[1]+ '.tsv')\n",
    "write_data(data_1, file_names[2]+ '.tsv')\n",
    "write_data(data_1, file_names[3]+ '.tsv')"
   ],
   "metadata": {
    "collapsed": false,
    "pycharm": {
     "name": "#%%\n"
    }
   }
  },
  {
   "cell_type": "code",
   "execution_count": null,
   "outputs": [],
   "source": [
    "import pickle\n",
    "bow_test = pickle.load(open(\"../data/processed/bow_test.pickle\", \"rb\"))"
   ],
   "metadata": {
    "collapsed": false,
    "pycharm": {
     "name": "#%%\n"
    }
   }
  },
  {
   "cell_type": "code",
   "execution_count": null,
   "outputs": [],
   "source": [
    "str(bow_test)"
   ],
   "metadata": {
    "collapsed": false,
    "pycharm": {
     "name": "#%%\n"
    }
   }
  },
  {
   "cell_type": "code",
   "execution_count": 15,
   "outputs": [
    {
     "name": "stdout",
     "output_type": "stream",
     "text": [
      "32500\n",
      "32500\n",
      "32500\n",
      "32500\n",
      "                                                   title  \\\n",
      "32499  serialize function for string values to use in...   \n",
      "\n",
      "                        tags  \n",
      "32499  [php, jquery, string]  \n",
      "                                               title            tags\n",
      "32500  Can't find context menu in control collection  [c#, winforms]\n",
      "                               title   tags\n",
      "64999  What is a PHP code generator?  [php]\n",
      "                  title      tags\n",
      "65000  VB.NET and bytes  [vb.net]\n",
      "                                            title                     tags\n",
      "97499  Sorting hashmap in angularjs or javascript  [javascript, angularjs]\n",
      "                                       title  tags\n",
      "97500  The parameter regionName must be null  [c#]\n"
     ]
    }
   ],
   "source": [
    "data_1 = all_data[:int(len(all_data)/4)]\n",
    "print(len(data_1))\n",
    "\n",
    "data_2 = all_data[int(len(all_data)/4):int(len(all_data)/4)*2]\n",
    "print(len(data_2))\n",
    "\n",
    "data_3 = all_data[int(len(all_data)/4)*2:int(len(all_data)/4)*3]\n",
    "print(len(data_3))\n",
    "\n",
    "data_4 = all_data[int(len(all_data)/4)*3:int(len(all_data)/4)*4]\n",
    "print(len(data_4))\n"
   ],
   "metadata": {
    "collapsed": false,
    "pycharm": {
     "name": "#%%\n"
    }
   }
  },
  {
   "cell_type": "code",
   "execution_count": 17,
   "outputs": [
    {
     "data": {
      "text/plain": "True"
     },
     "execution_count": 17,
     "metadata": {},
     "output_type": "execute_result"
    }
   ],
   "source": [
    "write_data(data_1, file_names[0]+ '.tsv')\n",
    "write_data(data_1, file_names[1]+ '.tsv')\n",
    "write_data(data_1, file_names[2]+ '.tsv')\n",
    "write_data(data_1, file_names[3]+ '.tsv')"
   ],
   "metadata": {
    "collapsed": false,
    "pycharm": {
     "name": "#%%\n"
    }
   }
  },
  {
   "cell_type": "code",
   "execution_count": 3,
   "outputs": [],
   "source": [
    "import pickle\n",
    "bow_test = pickle.load(open(\"../data/processed/bow_test.pickle\", \"rb\"))"
   ],
   "metadata": {
    "collapsed": false,
    "pycharm": {
     "name": "#%%\n"
    }
   }
  },
  {
   "cell_type": "code",
   "execution_count": 6,
   "outputs": [
    {
     "data": {
      "text/plain": "'  (0, 15)\\t1.0\\n  (0, 111)\\t1.0\\n  (0, 141)\\t1.0\\n  (0, 357)\\t1.0\\n  (0, 425)\\t1.0\\n  (0, 433)\\t1.0\\n  (0, 1556)\\t1.0\\n  (0, 3343)\\t1.0\\n  (1, 4)\\t1.0\\n  (1, 6)\\t1.0\\n  (1, 67)\\t1.0\\n  (1, 104)\\t1.0\\n  (1, 167)\\t1.0\\n  (1, 820)\\t1.0\\n  (2, 347)\\t1.0\\n  (2, 1078)\\t1.0\\n  (2, 1499)\\t1.0\\n  (2, 1774)\\t1.0\\n  (2, 1892)\\t1.0\\n  (3, 395)\\t1.0\\n  (3, 792)\\t1.0\\n  (3, 2702)\\t1.0\\n  (4, 5)\\t1.0\\n  (4, 41)\\t1.0\\n  (4, 70)\\t1.0\\n  :\\t:\\n  (19995, 20)\\t1.0\\n  (19995, 134)\\t1.0\\n  (19995, 464)\\t1.0\\n  (19996, 4)\\t1.0\\n  (19996, 16)\\t1.0\\n  (19996, 28)\\t1.0\\n  (19996, 34)\\t1.0\\n  (19996, 124)\\t1.0\\n  (19996, 223)\\t1.0\\n  (19996, 246)\\t1.0\\n  (19997, 4)\\t1.0\\n  (19997, 99)\\t1.0\\n  (19997, 102)\\t1.0\\n  (19997, 307)\\t1.0\\n  (19997, 503)\\t1.0\\n  (19997, 1153)\\t1.0\\n  (19998, 14)\\t1.0\\n  (19998, 87)\\t1.0\\n  (19998, 92)\\t1.0\\n  (19998, 821)\\t1.0\\n  (19998, 948)\\t1.0\\n  (19999, 67)\\t1.0\\n  (19999, 223)\\t1.0\\n  (19999, 527)\\t1.0\\n  (19999, 663)\\t1.0'"
     },
     "execution_count": 6,
     "metadata": {},
     "output_type": "execute_result"
    }
   ],
   "source": [
    "str(bow_test)"
   ],
   "metadata": {
    "collapsed": false,
    "pycharm": {
     "name": "#%%\n"
    }
   }
  },
  {
   "cell_type": "code",
   "execution_count": null,
   "outputs": [],
   "source": [],
   "metadata": {
    "collapsed": false,
    "pycharm": {
     "name": "#%%\n"
    }
   }
  }
 ],
 "metadata": {
  "kernelspec": {
   "display_name": "Python 3",
   "language": "python",
   "name": "python3"
  },
  "language_info": {
   "codemirror_mode": {
    "name": "ipython",
    "version": 2
   },
   "file_extension": ".py",
   "mimetype": "text/x-python",
   "name": "python",
   "nbconvert_exporter": "python",
   "pygments_lexer": "ipython2",
   "version": "2.7.6"
  }
 },
 "nbformat": 4,
 "nbformat_minor": 0
}