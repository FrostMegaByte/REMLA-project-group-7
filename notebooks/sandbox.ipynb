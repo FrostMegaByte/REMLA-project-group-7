{
 "cells": [
  {
   "cell_type": "code",
   "execution_count": 2,
   "outputs": [
    {
     "ename": "AttributeError",
     "evalue": "'list' object has no attribute 'split'",
     "output_type": "error",
     "traceback": [
      "\u001B[0;31m---------------------------------------------------------------------------\u001B[0m",
      "\u001B[0;31mAttributeError\u001B[0m                            Traceback (most recent call last)",
      "Input \u001B[0;32mIn [2]\u001B[0m, in \u001B[0;36m<cell line: 3>\u001B[0;34m()\u001B[0m\n\u001B[1;32m      1\u001B[0m t1 \u001B[38;5;241m=\u001B[39m \u001B[38;5;124m\"\u001B[39m\u001B[38;5;124mHi im hello world\u001B[39m\u001B[38;5;124m\"\u001B[39m\n\u001B[1;32m      2\u001B[0m t2 \u001B[38;5;241m=\u001B[39m [\u001B[38;5;124m'\u001B[39m\u001B[38;5;124m1\u001B[39m\u001B[38;5;124m'\u001B[39m,\u001B[38;5;124m'\u001B[39m\u001B[38;5;124m2\u001B[39m\u001B[38;5;124m'\u001B[39m,\u001B[38;5;124m'\u001B[39m\u001B[38;5;124m3\u001B[39m\u001B[38;5;124m'\u001B[39m]\n\u001B[0;32m----> 3\u001B[0m \u001B[43mt2\u001B[49m\u001B[38;5;241;43m.\u001B[39;49m\u001B[43msplit\u001B[49m\n\u001B[1;32m      4\u001B[0m \u001B[38;5;28;01mfor\u001B[39;00m e \u001B[38;5;129;01min\u001B[39;00m t1:\n\u001B[1;32m      5\u001B[0m     \u001B[38;5;28mprint\u001B[39m(e)\n",
      "\u001B[0;31mAttributeError\u001B[0m: 'list' object has no attribute 'split'"
     ]
    }
   ],
   "source": [
    "t1 = \"Hi im hello world\"\n",
    "t2 = ['1','2','3']\n",
    "t2.split\n",
    "for e in t1:\n",
    "    print(e)"
   ],
   "metadata": {
    "collapsed": false,
    "pycharm": {
     "name": "#%%\n"
    }
   }
  },
  {
   "cell_type": "code",
   "execution_count": 7,
   "outputs": [],
   "source": [
    "\n",
    "from src.util.util import read_data, write_data\n",
    "\n",
    "test = read_data('../data/interim/train.tsv', '\\t')\n"
   ],
   "metadata": {
    "collapsed": false,
    "pycharm": {
     "name": "#%%\n"
    }
   }
  },
  {
   "cell_type": "code",
   "execution_count": 14,
   "outputs": [
    {
     "data": {
      "text/plain": "1"
     },
     "execution_count": 14,
     "metadata": {},
     "output_type": "execute_result"
    }
   ],
   "source": [
    "test.head(1)\n",
    "test['len'] = test['tags'].map(len)\n",
    "test['len'].min()"
   ],
   "metadata": {
    "collapsed": false,
    "pycharm": {
     "name": "#%%\n"
    }
   }
  },
  {
   "cell_type": "code",
   "execution_count": 3,
   "outputs": [],
   "source": [
    "import pickle\n",
    "bow_test = pickle.load(open(\"../data/processed/bow_test.pickle\", \"rb\"))"
   ],
   "metadata": {
    "collapsed": false,
    "pycharm": {
     "name": "#%%\n"
    }
   }
  },
  {
   "cell_type": "code",
   "execution_count": 6,
   "outputs": [
    {
     "data": {
      "text/plain": "'  (0, 15)\\t1.0\\n  (0, 111)\\t1.0\\n  (0, 141)\\t1.0\\n  (0, 357)\\t1.0\\n  (0, 425)\\t1.0\\n  (0, 433)\\t1.0\\n  (0, 1556)\\t1.0\\n  (0, 3343)\\t1.0\\n  (1, 4)\\t1.0\\n  (1, 6)\\t1.0\\n  (1, 67)\\t1.0\\n  (1, 104)\\t1.0\\n  (1, 167)\\t1.0\\n  (1, 820)\\t1.0\\n  (2, 347)\\t1.0\\n  (2, 1078)\\t1.0\\n  (2, 1499)\\t1.0\\n  (2, 1774)\\t1.0\\n  (2, 1892)\\t1.0\\n  (3, 395)\\t1.0\\n  (3, 792)\\t1.0\\n  (3, 2702)\\t1.0\\n  (4, 5)\\t1.0\\n  (4, 41)\\t1.0\\n  (4, 70)\\t1.0\\n  :\\t:\\n  (19995, 20)\\t1.0\\n  (19995, 134)\\t1.0\\n  (19995, 464)\\t1.0\\n  (19996, 4)\\t1.0\\n  (19996, 16)\\t1.0\\n  (19996, 28)\\t1.0\\n  (19996, 34)\\t1.0\\n  (19996, 124)\\t1.0\\n  (19996, 223)\\t1.0\\n  (19996, 246)\\t1.0\\n  (19997, 4)\\t1.0\\n  (19997, 99)\\t1.0\\n  (19997, 102)\\t1.0\\n  (19997, 307)\\t1.0\\n  (19997, 503)\\t1.0\\n  (19997, 1153)\\t1.0\\n  (19998, 14)\\t1.0\\n  (19998, 87)\\t1.0\\n  (19998, 92)\\t1.0\\n  (19998, 821)\\t1.0\\n  (19998, 948)\\t1.0\\n  (19999, 67)\\t1.0\\n  (19999, 223)\\t1.0\\n  (19999, 527)\\t1.0\\n  (19999, 663)\\t1.0'"
     },
     "execution_count": 6,
     "metadata": {},
     "output_type": "execute_result"
    }
   ],
   "source": [
    "str(bow_test)"
   ],
   "metadata": {
    "collapsed": false,
    "pycharm": {
     "name": "#%%\n"
    }
   }
  },
  {
   "cell_type": "code",
   "execution_count": null,
   "outputs": [],
   "source": [],
   "metadata": {
    "collapsed": false,
    "pycharm": {
     "name": "#%%\n"
    }
   }
  }
 ],
 "metadata": {
  "kernelspec": {
   "display_name": "Python 3",
   "language": "python",
   "name": "python3"
  },
  "language_info": {
   "codemirror_mode": {
    "name": "ipython",
    "version": 2
   },
   "file_extension": ".py",
   "mimetype": "text/x-python",
   "name": "python",
   "nbconvert_exporter": "python",
   "pygments_lexer": "ipython2",
   "version": "2.7.6"
  }
 },
 "nbformat": 4,
 "nbformat_minor": 0
}